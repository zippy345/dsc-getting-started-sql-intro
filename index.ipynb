{
 "cells": [
  {
   "cell_type": "markdown",
   "metadata": {},
   "source": [
    "# Getting Started with SQL - Introduction"
   ]
  },
  {
   "cell_type": "markdown",
   "metadata": {},
   "source": [
    "## Introduction\n",
    "\n",
    "In this section, you'll learn about SQL, which stands for Structured Query Language. It has been around since the 1970s and there are many different dialects of the language including MySQL, SQLite, and PostgreSQL, to name a few.\n",
    "\n",
    "Each of these dialects has particularities such as specific functions or keywords for that specific implementation. All of them, however, have the same basic structures including keywords like `SELECT` for querying databases, and the same general database architecture."
   ]
  },
  {
   "cell_type": "markdown",
   "metadata": {},
   "source": [
    "## The Structure of SQL Databases\n",
    "\n",
    "A SQL ***database*** is a high-level container containing one or more ***tables***. The database can be a continuously-running server that receives requests and returns responses (MySQL, PostgreSQL) or it can be a specially-formatted file on disk (SQLite). We will primarily use SQLite in these lessons because it is lightweight and portable (and therefore useful for educational purposes), but it's important to be aware that other more \"heavy duty\" types of databases are available and are used more often in industry settings.\n",
    "\n",
    "A SQL table contains tabular data (data stored in rows and columns), similar to a CSV. Every table has a defined set of columns, and then we store any number of what we refer to as 'records' as rows in our database. A record is just information referring to one specific entity. For instance, if you had a table called \"people\" you could imagine a structure like this:\n",
    "\n",
    "<table border=\"1\" cellpadding=\"4\" cellspacing=\"0\">\n",
    "  <tr>\n",
    "    <th>id</th>\n",
    "    <th>name</th>\n",
    "    <th>age</th>\n",
    "    <th>email</th>\n",
    "  </tr>\n",
    "\n",
    "  <tr>\n",
    "    <td>1</td>\n",
    "    <td>Bob</td>\n",
    "    <td>29</td>\n",
    "    <td>bob@flatironschool.com</td>\n",
    "  </tr>\n",
    "  <tr>\n",
    "    <td>2</td>\n",
    "    <td>James</td>\n",
    "    <td>28</td>\n",
    "    <td>james@flatironschool.com</td>\n",
    "  </tr>\n",
    "  <tr>\n",
    "    <td>3</td>\n",
    "    <td>John</td>\n",
    "    <td>28</td>\n",
    "    <td>john@flatironschool.com</td>\n",
    "  </tr>\n",
    "</table>\n",
    "\n",
    "Each column has a name, and each row contains the corresponding information about a person. Unlike a CSV, a SQL table can also enforce the data types of the columns, which are described in the table ***schema***. The schema for this table might look something like this:\n",
    "\n",
    "```\n",
    "CREATE TABLE people (\n",
    "  id INTEGER PRIMARY KEY,\n",
    "  name TEXT,\n",
    "  age INTEGER,\n",
    "  email TEXT\n",
    ");\n",
    "```"
   ]
  },
  {
   "cell_type": "markdown",
   "metadata": {},
   "source": [
    "## Connecting to and Querying SQL Databases\n",
    "\n",
    "As a data scientist, your primary use case of SQL will be querying data stored within databases. To do this, you connect to the database with some sort of tool.\n",
    "\n",
    "* Most SQL databases have an associated **command-line interface** where you can write SQL queries without any additional languages or tools. For SQLite, this is called `sqlite3` ([documentation here](https://sqlite.org/cli.html))\n",
    "* You can also connect through a different **coding language such as Python**. For SQLite, the Python module is called `sqlite3` ([documentation here](https://docs.python.org/3/library/sqlite3.html)). (Yes, the command-line interface and Python module have the same name.)\n",
    "* One other approach is using a **GUI (graphical user interface)** tool. For SQLite, a good one is DB Browser for SQLite ([documentation here](https://sqlitebrowser.org/))\n",
    "\n",
    "Once you're connected to the database, you can then read, write, update, and delete data from its tables. These commands are called ***queries*** and are written using the SQL language.\n",
    "\n",
    "(Similar to other kinds of file permissions, you might only have the ability to perform some of these actions but not others, e.g. read information from the database but not delete information.)"
   ]
  },
  {
   "cell_type": "markdown",
   "metadata": {},
   "source": [
    "To retrieve data from one or more tables you usually use a `SELECT` statement in your query.\n",
    "\n",
    "A simple query would look something like this:\n",
    "\n",
    "```sql\n",
    "SELECT col1, col2, col3\n",
    "FROM table\n",
    "WHERE records match criteria\n",
    "LIMIT 100;\n",
    "```\n",
    "\n",
    "Don't worry if this is confusing now, you'll soon learn what each line does. For now, just notice that:\n",
    "\n",
    "* Queries start with the `SELECT` clause, followed by what you want to select. If selecting multiple columns, you separate them with a comma.\n",
    "* Then you specify where that data is being retrieved from the using the FROM clause followed by the table name.\n",
    "* Afterward, you can provide conditions such as filters or limits on the amount of data returned."
   ]
  },
  {
   "attachments": {},
   "cell_type": "markdown",
   "metadata": {},
   "source": [
    "## Relational Data\n",
    "\n",
    "Also unlike a CSV, a SQL database can contain multiple related SQL tables. To demonstrate, here is an outline of a database structure:\n",
    "\n",
    "<img src=\"https://github.com/learn-co-curriculum/dsc-getting-started-sql-intro/raw/master/Database-Schema.png\" />\n",
    "\n",
    "This kind of diagram is called an ***entity relationship diagram (ERD)*** because it shows the relationships between tables. It does not give us any information about the specific data stored in the database, but rather the metadata.\n",
    "\n",
    "In the diagram, each rectangle is a table, with the table name listed at the top. In this case, we have 8 tables:\n",
    "\n",
    "1. `productlines`\n",
    "2. `products`\n",
    "3. `orderdetails`\n",
    "4. `employees`\n",
    "5. `offices`\n",
    "6. `customers`\n",
    "7. `orders`\n",
    "8. `payments`\n",
    "\n",
    "Below each of the table names, we have a list of the various column names associated with that table. So for example, the `productlines` table has four columns: `productLine`, `textDescription`, `htmlDescription` and `image`."
   ]
  },
  {
   "cell_type": "markdown",
   "metadata": {},
   "source": [
    "In addition to the names of the tables and their column names, we have an indication of relationships. For example, data in the employees table has some relationship to data on the offices table, indicating that an employee may be associated with a specific office location. Likewise, certain orders are associated with certain customers. Lots of real world data is inherently related. For example, students have an association to a course, or ingredients are related to a recipe."
   ]
  },
  {
   "cell_type": "markdown",
   "metadata": {},
   "source": [
    "### Primary Keys and Foreign Keys\n",
    "\n",
    "You may also note that some of these column names are preceded by an asterisk (`*`). This indicates that this is the ***primary key*** for the table. A primary key is a unique identifier for a table. That is, there can only be unique values for this column entry. `lastName` would not be a good choice for a primary key as it's common for people to have the same last names or even `firstName + lastName` pairings. For this reason it is typical for a primary key to have a name reflecting some kind of \"number\", \"code\", or \"id\" — something that is truly unique to that record, which may or may not have any meaning beyond the database itself.\n",
    "\n",
    "If you look closely, you'll see that the columns that are the primary key for one table can also appear on other tables. This is known as a ***foreign key*** aka the primary key from a different (\"foreign\") table. This is the core idea of how data on different tables is associated in a relational database. If you were told a specific `customerNumber`, and then given a list of order data that included the `customerNumber`, you could determine which orders were placed by that customer by matching up the primary and foreign keys.\n",
    "\n",
    "The lines, circles, arrows, and tick marks are showing different categorizations on exactly how this data is linked."
   ]
  },
  {
   "cell_type": "markdown",
   "metadata": {},
   "source": [
    "## Technical Interview Practice\n",
    "\n",
    "Data retrieval is the most foundational and arguably most important skill in a data scientist's toolbox. You can know all the Python and machine learning and statistics in the world, but they're useless if you don't have data to aim those skills at!\n",
    "\n",
    "Especially for junior data scientists, employers tend to evaluate candidates' data retrieval abilities by asking SQL questions. Keep this in mind as you go through our SQL content, and consider getting additional practice with platforms such as [HackerRank](https://www.hackerrank.com/domains/sql) to keep your skills up."
   ]
  },
  {
   "cell_type": "markdown",
   "metadata": {},
   "source": [
    "## Summary\n",
    "\n",
    "In this lesson, you got a quick overview of what SQL is and saw an example SQL `SELECT` query and ERD! Remember that there are multiple SQL dialects all with particular differences, but the overall language is generally fairly similar and interchangeable. You also learned that knowledge of SQL is important for job interviews since data retrieval is a foundational part of the data science process."
   ]
  },
  {
   "cell_type": "code",
   "execution_count": 1,
   "metadata": {},
   "outputs": [
    {
     "ename": "OperationalError",
     "evalue": "table Students already exists",
     "output_type": "error",
     "traceback": [
      "\u001b[1;31m---------------------------------------------------------------------------\u001b[0m",
      "\u001b[1;31mOperationalError\u001b[0m                          Traceback (most recent call last)",
      "Cell \u001b[1;32mIn[1], line 10\u001b[0m\n\u001b[0;32m      7\u001b[0m cur \u001b[38;5;241m=\u001b[39m conn\u001b[38;5;241m.\u001b[39mcursor()\n\u001b[0;32m      9\u001b[0m \u001b[38;5;66;03m# Create a table\u001b[39;00m\n\u001b[1;32m---> 10\u001b[0m cur\u001b[38;5;241m.\u001b[39mexecute(\u001b[38;5;124m'''\u001b[39m\n\u001b[0;32m     11\u001b[0m \u001b[38;5;124mCREATE TABLE  Students(\u001b[39m\n\u001b[0;32m     12\u001b[0m \u001b[38;5;124m    Student_id INTEGER PRIMARY KEY,\u001b[39m\n\u001b[0;32m     13\u001b[0m \u001b[38;5;124m    Location TEXT,\u001b[39m\n\u001b[0;32m     14\u001b[0m \u001b[38;5;124m    Student_Name TEXT\u001b[39m\n\u001b[0;32m     15\u001b[0m \u001b[38;5;124m)\u001b[39m\n\u001b[0;32m     16\u001b[0m \u001b[38;5;124m'''\u001b[39m)\n\u001b[0;32m     18\u001b[0m \u001b[38;5;66;03m# Commit the changes and close the connection\u001b[39;00m\n\u001b[0;32m     19\u001b[0m conn\u001b[38;5;241m.\u001b[39mcommit()\n",
      "\u001b[1;31mOperationalError\u001b[0m: table Students already exists"
     ]
    }
   ],
   "source": [
    "import sqlite3\n",
    "\n",
    "#  create and Connect to the new database \n",
    "conn = sqlite3.connect('school.db')\n",
    "\n",
    "# Create a cursor object\n",
    "cur = conn.cursor()\n",
    "\n",
    "# Create a table\n",
    "cur.execute('''\n",
    "CREATE TABLE  Students(\n",
    "    Student_id INTEGER PRIMARY KEY,\n",
    "    Location TEXT,\n",
    "    Student_Name TEXT\n",
    ")\n",
    "''')\n",
    "\n",
    "# Commit the changes and close the connection\n",
    "conn.commit()\n",
    "\n"
   ]
  },
  {
   "cell_type": "code",
   "execution_count": 3,
   "metadata": {},
   "outputs": [
    {
     "ename": "OperationalError",
     "evalue": "table Grades already exists",
     "output_type": "error",
     "traceback": [
      "\u001b[1;31m---------------------------------------------------------------------------\u001b[0m",
      "\u001b[1;31mOperationalError\u001b[0m                          Traceback (most recent call last)",
      "Cell \u001b[1;32mIn[3], line 11\u001b[0m\n\u001b[0;32m      8\u001b[0m cur \u001b[38;5;241m=\u001b[39m conn\u001b[38;5;241m.\u001b[39mcursor()\n\u001b[0;32m     10\u001b[0m \u001b[38;5;66;03m# Create a table\u001b[39;00m\n\u001b[1;32m---> 11\u001b[0m cur\u001b[38;5;241m.\u001b[39mexecute(\u001b[38;5;124m'''\u001b[39m\n\u001b[0;32m     12\u001b[0m \u001b[38;5;124mCREATE TABLE  Grades(\u001b[39m\n\u001b[0;32m     13\u001b[0m \u001b[38;5;124m    Student_id INTEGER PRIMARY KEY,\u001b[39m\n\u001b[0;32m     14\u001b[0m \u001b[38;5;124m    Location TEXT,\u001b[39m\n\u001b[0;32m     15\u001b[0m \u001b[38;5;124m    Grade CHAR(2)\u001b[39m\n\u001b[0;32m     16\u001b[0m \u001b[38;5;124m)\u001b[39m\n\u001b[0;32m     17\u001b[0m \u001b[38;5;124m'''\u001b[39m)\n\u001b[0;32m     19\u001b[0m \u001b[38;5;66;03m# Commit the changes and close the connection\u001b[39;00m\n\u001b[0;32m     20\u001b[0m conn\u001b[38;5;241m.\u001b[39mcommit()\n",
      "\u001b[1;31mOperationalError\u001b[0m: table Grades already exists"
     ]
    }
   ],
   "source": [
    "# Create another table and place it on the new  School database.\n",
    "import sqlite3\n",
    "\n",
    "#  create and Connect to the new database \n",
    "conn = sqlite3.connect('school.db')\n",
    "\n",
    "# Create a cursor object\n",
    "cur = conn.cursor()\n",
    "\n",
    "# Create a table\n",
    "cur.execute('''\n",
    "CREATE TABLE  Grades(\n",
    "    Student_id INTEGER PRIMARY KEY,\n",
    "    Location TEXT,\n",
    "    Grade CHAR(2)\n",
    ")\n",
    "''')\n",
    "\n",
    "# Commit the changes and close the connection\n",
    "conn.commit()\n"
   ]
  },
  {
   "cell_type": "code",
   "execution_count": 5,
   "metadata": {},
   "outputs": [
    {
     "data": {
      "text/plain": [
       "[('Students',), ('Grades',)]"
      ]
     },
     "execution_count": 5,
     "metadata": {},
     "output_type": "execute_result"
    }
   ],
   "source": [
    "cur.execute('''\n",
    "SELECT name FROM sqlite_master WHERE type = 'table';''')\n",
    "tables_in_db = cur.fetchall()\n",
    "tables_in_db"
   ]
  },
  {
   "cell_type": "code",
   "execution_count": 7,
   "metadata": {},
   "outputs": [
    {
     "ename": "IntegrityError",
     "evalue": "UNIQUE constraint failed: Students.Student_id",
     "output_type": "error",
     "traceback": [
      "\u001b[1;31m---------------------------------------------------------------------------\u001b[0m",
      "\u001b[1;31mIntegrityError\u001b[0m                            Traceback (most recent call last)",
      "Cell \u001b[1;32mIn[7], line 2\u001b[0m\n\u001b[0;32m      1\u001b[0m \u001b[38;5;66;03m# insert items within the  students table \u001b[39;00m\n\u001b[1;32m----> 2\u001b[0m cur\u001b[38;5;241m.\u001b[39mexecute(\u001b[38;5;124m\"\u001b[39m\u001b[38;5;124mINSERT INTO Students (Student_id, Location, Student_Name) VALUES (1, \u001b[39m\u001b[38;5;124m'\u001b[39m\u001b[38;5;124mNairobi\u001b[39m\u001b[38;5;124m'\u001b[39m\u001b[38;5;124m, \u001b[39m\u001b[38;5;124m'\u001b[39m\u001b[38;5;124mStephen\u001b[39m\u001b[38;5;124m'\u001b[39m\u001b[38;5;124m);\u001b[39m\u001b[38;5;124m\"\u001b[39m)\n\u001b[0;32m      3\u001b[0m cur\u001b[38;5;241m.\u001b[39mexecute(\u001b[38;5;124m\"\u001b[39m\u001b[38;5;124mINSERT INTO Students (Student_id, Location, Student_Name) VALUES (2, \u001b[39m\u001b[38;5;124m'\u001b[39m\u001b[38;5;124mMombasa\u001b[39m\u001b[38;5;124m'\u001b[39m\u001b[38;5;124m, \u001b[39m\u001b[38;5;124m'\u001b[39m\u001b[38;5;124mKelvin\u001b[39m\u001b[38;5;124m'\u001b[39m\u001b[38;5;124m);\u001b[39m\u001b[38;5;124m\"\u001b[39m)\n\u001b[0;32m      4\u001b[0m cur\u001b[38;5;241m.\u001b[39mexecute(\u001b[38;5;124m\"\u001b[39m\u001b[38;5;124mINSERT INTO Students (Student_id, Location, Student_Name) VALUES (3, \u001b[39m\u001b[38;5;124m'\u001b[39m\u001b[38;5;124mKisumu\u001b[39m\u001b[38;5;124m'\u001b[39m\u001b[38;5;124m, \u001b[39m\u001b[38;5;124m'\u001b[39m\u001b[38;5;124mKariuki\u001b[39m\u001b[38;5;124m'\u001b[39m\u001b[38;5;124m);\u001b[39m\u001b[38;5;124m\"\u001b[39m)\n",
      "\u001b[1;31mIntegrityError\u001b[0m: UNIQUE constraint failed: Students.Student_id"
     ]
    }
   ],
   "source": [
    "# insert items within the  students table \n",
    "cur.execute(\"INSERT INTO Students (Student_id, Location, Student_Name) VALUES (1, 'Nairobi', 'Stephen');\")\n",
    "cur.execute(\"INSERT INTO Students (Student_id, Location, Student_Name) VALUES (2, 'Machakos', 'Kelvin');\")\n",
    "cur.execute(\"INSERT INTO Students (Student_id, Location, Student_Name) VALUES (3, 'Kiambu', 'Kariuki');\")\n",
    "\n",
    "\n",
    "\n",
    "#''' INSERT INTO Students(Student_id, Location, Student_name)VALUES\n",
    "#(1, Nairobi, Stephen),\n",
    "#(2, Machakos, Kelvin),\n",
    "#(3, Kiambu, Kariuki)''';\n",
    "# save changes \n",
    "conn.commit()"
   ]
  },
  {
   "cell_type": "code",
   "execution_count": 11,
   "metadata": {},
   "outputs": [],
   "source": [
    "# insert items  within the grades table \n",
    "cur.execute(\"INSERT INTO Grades (Student_id, Location, Grade) VALUES (1, 'Nairobi', 'A');\")\n",
    "cur.execute(\"INSERT INTO Grades (Student_id, Location, Grade) VALUES (2, 'Machakos', 'B+');\")\n",
    "cur.execute(\"INSERT INTO Grades (Student_id, Location, Grade) VALUES (4, 'Kiambu', 'A-');\")\n",
    "\n",
    "conn.commit()"
   ]
  },
  {
   "cell_type": "code",
   "execution_count": 15,
   "metadata": {},
   "outputs": [
    {
     "name": "stdout",
     "output_type": "stream",
     "text": [
      "   Student_id  Location Student_Name\n",
      "0           1   Nairobi      Stephen\n",
      "1           2  Machakos       Kelvin\n",
      "2           3    Kiambu      Kariuki\n"
     ]
    }
   ],
   "source": [
    "import pandas as pd\n",
    "# Use pd.read_sql with a SQL query and the connection\n",
    "df= pd.read_sql(''' SELECT * FROM Students ;''',conn)\n",
    "print(df)"
   ]
  },
  {
   "cell_type": "code",
   "execution_count": 17,
   "metadata": {},
   "outputs": [
    {
     "name": "stdout",
     "output_type": "stream",
     "text": [
      "   Student_id  Location Grade\n",
      "0           1   Nairobi     A\n",
      "1           2  Machakos    B+\n",
      "2           4    Kiambu    A-\n"
     ]
    }
   ],
   "source": [
    "# Use pd.read_sql with a SQL query and the connection\n",
    "df= pd.read_sql(''' SELECT * FROM Grades ;''',conn)\n",
    "print(df)"
   ]
  },
  {
   "cell_type": "code",
   "execution_count": 31,
   "metadata": {},
   "outputs": [
    {
     "data": {
      "text/html": [
       "<div>\n",
       "<style scoped>\n",
       "    .dataframe tbody tr th:only-of-type {\n",
       "        vertical-align: middle;\n",
       "    }\n",
       "\n",
       "    .dataframe tbody tr th {\n",
       "        vertical-align: top;\n",
       "    }\n",
       "\n",
       "    .dataframe thead th {\n",
       "        text-align: right;\n",
       "    }\n",
       "</style>\n",
       "<table border=\"1\" class=\"dataframe\">\n",
       "  <thead>\n",
       "    <tr style=\"text-align: right;\">\n",
       "      <th></th>\n",
       "      <th>Student_id</th>\n",
       "      <th>Location</th>\n",
       "      <th>Student_Name</th>\n",
       "      <th>Location</th>\n",
       "      <th>Grade</th>\n",
       "    </tr>\n",
       "  </thead>\n",
       "  <tbody>\n",
       "    <tr>\n",
       "      <th>0</th>\n",
       "      <td>1</td>\n",
       "      <td>Nairobi</td>\n",
       "      <td>Stephen</td>\n",
       "      <td>Nairobi</td>\n",
       "      <td>A</td>\n",
       "    </tr>\n",
       "    <tr>\n",
       "      <th>1</th>\n",
       "      <td>2</td>\n",
       "      <td>Machakos</td>\n",
       "      <td>Kelvin</td>\n",
       "      <td>Machakos</td>\n",
       "      <td>B+</td>\n",
       "    </tr>\n",
       "  </tbody>\n",
       "</table>\n",
       "</div>"
      ],
      "text/plain": [
       "   Student_id  Location Student_Name  Location Grade\n",
       "0           1   Nairobi      Stephen   Nairobi     A\n",
       "1           2  Machakos       Kelvin  Machakos    B+"
      ]
     },
     "execution_count": 31,
     "metadata": {},
     "output_type": "execute_result"
    }
   ],
   "source": [
    "# join the two tables\n",
    "pd.read_sql('''\n",
    "SELECT *\n",
    "FROM Students\n",
    "INNER JOIN Grades  \n",
    "USING (Student_id);\n",
    "''',conn)"
   ]
  }
 ],
 "metadata": {
  "kernelspec": {
   "display_name": "Python [conda env:New folder]",
   "language": "python",
   "name": "conda-env-New_folder-py"
  },
  "language_info": {
   "codemirror_mode": {
    "name": "ipython",
    "version": 3
   },
   "file_extension": ".py",
   "mimetype": "text/x-python",
   "name": "python",
   "nbconvert_exporter": "python",
   "pygments_lexer": "ipython3",
   "version": "3.11.7"
  }
 },
 "nbformat": 4,
 "nbformat_minor": 4
}
